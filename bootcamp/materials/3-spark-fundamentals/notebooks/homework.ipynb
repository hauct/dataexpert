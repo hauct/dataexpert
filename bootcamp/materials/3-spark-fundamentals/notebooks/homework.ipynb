{
 "cells": [
  {
   "cell_type": "code",
   "execution_count": 1,
   "id": "95cb9f71-9436-4841-96a7-518a49e64322",
   "metadata": {},
   "outputs": [
    {
     "name": "stderr",
     "output_type": "stream",
     "text": [
      "25/02/16 18:13:00 WARN SparkSession: Using an existing Spark session; only runtime SQL configurations will take effect.\n"
     ]
    }
   ],
   "source": [
    "from pyspark.sql import SparkSession\n",
    "from pyspark.sql.functions import *\n",
    "from pyspark.sql.types import *\n",
    "\n",
    "spark = SparkSession.builder \\\n",
    "    .appName(\"Optimized Bucket Join\") \\\n",
    "    .config(\"spark.jars.packages\", \"org.apache.hadoop:hadoop-aws:3.3.4,com.amazonaws:aws-java-sdk-bundle:1.12.569\") \\\n",
    "    .config(\"spark.sql.extensions\", \"org.apache.iceberg.spark.extensions.IcebergSparkSessionExtensions\") \\\n",
    "    .config(\"spark.sql.catalog.spark_catalog\", \"org.apache.iceberg.spark.SparkSessionCatalog\") \\\n",
    "    .config(\"spark.sql.catalog.spark_catalog.type\", \"hive\") \\\n",
    "    .config(\"spark.sql.catalog.local\", \"org.apache.iceberg.spark.SparkCatalog\") \\\n",
    "    .config(\"spark.sql.catalog.local.type\", \"hadoop\") \\\n",
    "    .config(\"spark.sql.catalog.local.warehouse\", \"s3a://warehouse/\") \\\n",
    "    .config(\"spark.hadoop.fs.s3a.access.key\", \"admin\") \\\n",
    "    .config(\"spark.hadoop.fs.s3a.secret.key\", \"password\") \\\n",
    "    .config(\"spark.hadoop.fs.s3a.endpoint\", \"http://minio:9001\") \\\n",
    "    .config(\"spark.hadoop.fs.s3a.path.style.access\", \"true\") \\\n",
    "    .config(\"spark.hadoop.fs.s3a.impl\", \"org.apache.hadoop.fs.s3a.S3AFileSystem\") \\\n",
    "    .enableHiveSupport() \\\n",
    "    .getOrCreate()\n",
    "\n",
    "spark.sparkContext.setLogLevel(\"ERROR\")"
   ]
  },
  {
   "cell_type": "markdown",
   "id": "45e05ab7-9f8c-4039-aace-4cc28c5b48e3",
   "metadata": {
    "jp-MarkdownHeadingCollapsed": true
   },
   "source": [
    "# Test Bucket"
   ]
  },
  {
   "cell_type": "code",
   "execution_count": 1,
   "id": "756c3191-6edd-4b16-82b2-cd9e1eb44572",
   "metadata": {},
   "outputs": [
    {
     "name": "stdout",
     "output_type": "stream",
     "text": [
      "Requirement already satisfied: Faker in /usr/local/lib/python3.9/site-packages (36.1.1)\n",
      "Requirement already satisfied: tzdata in /usr/local/lib/python3.9/site-packages (from Faker) (2024.1)\n",
      "\u001b[33mWARNING: Running pip as the 'root' user can result in broken permissions and conflicting behaviour with the system package manager. It is recommended to use a virtual environment instead: https://pip.pypa.io/warnings/venv\u001b[0m\u001b[33m\n",
      "\u001b[0m\n",
      "\u001b[1m[\u001b[0m\u001b[34;49mnotice\u001b[0m\u001b[1;39;49m]\u001b[0m\u001b[39;49m A new release of pip is available: \u001b[0m\u001b[31;49m23.0.1\u001b[0m\u001b[39;49m -> \u001b[0m\u001b[32;49m25.0.1\u001b[0m\n",
      "\u001b[1m[\u001b[0m\u001b[34;49mnotice\u001b[0m\u001b[1;39;49m]\u001b[0m\u001b[39;49m To update, run: \u001b[0m\u001b[32;49mpip install --upgrade pip\u001b[0m\n",
      "Note: you may need to restart the kernel to use updated packages.\n"
     ]
    }
   ],
   "source": [
    "pip install Faker"
   ]
  },
  {
   "cell_type": "code",
   "execution_count": 3,
   "id": "4265be15-e3a5-4e80-af50-4c856ec0799b",
   "metadata": {},
   "outputs": [],
   "source": [
    "from faker import Faker\n",
    "import random"
   ]
  },
  {
   "cell_type": "code",
   "execution_count": 4,
   "id": "8220c6ea-1755-4262-97a4-52ad65b940eb",
   "metadata": {},
   "outputs": [
    {
     "name": "stderr",
     "output_type": "stream",
     "text": [
      "25/02/16 14:59:25 WARN TaskSetManager: Stage 0 contains a task of very large size (1607 KiB). The maximum recommended task size is 1000 KiB.\n",
      "                                                                                \r"
     ]
    },
    {
     "name": "stdout",
     "output_type": "stream",
     "text": [
      "+--------+----------------+-----+\n",
      "|match_id|          player|score|\n",
      "+--------+----------------+-----+\n",
      "|     M68| Joseph Phillips|   22|\n",
      "|     M13|    Olivia Avila|   20|\n",
      "|     M65|       Jack Long|   84|\n",
      "|     M16|   Gerald Gamble|   29|\n",
      "|     M91|Gabrielle Walker|   75|\n",
      "+--------+----------------+-----+\n",
      "only showing top 5 rows\n",
      "\n"
     ]
    }
   ],
   "source": [
    "\n",
    "# Sử dụng thư viện Faker để tạo dữ liệu giả\n",
    "fake = Faker()\n",
    "\n",
    "# Hàm tạo dữ liệu giả\n",
    "def generate_fake_data(num_records):\n",
    "    data = []\n",
    "    for _ in range(num_records):\n",
    "        match_id = f\"M{random.randint(1, 100)}\"  # Match ID từ M1 đến M100\n",
    "        player = fake.name()  # Tên người chơi giả\n",
    "        score = random.randint(0, 100)  # Điểm số ngẫu nhiên từ 0 đến 100\n",
    "        data.append((match_id, player, score))\n",
    "    return data\n",
    "\n",
    "# Số lượng bản ghi\n",
    "num_records = 1000000\n",
    "\n",
    "# Tạo dữ liệu\n",
    "columns = [\"match_id\", \"player\", \"score\"]\n",
    "data = generate_fake_data(num_records)\n",
    "\n",
    "# Tạo DataFrame\n",
    "df = spark.createDataFrame(data, columns)\n",
    "\n",
    "# Hiển thị một phần dữ liệu\n",
    "df.show(5)"
   ]
  },
  {
   "cell_type": "code",
   "execution_count": 5,
   "id": "231e8663-6c38-4209-99dc-e8b9b217753d",
   "metadata": {},
   "outputs": [
    {
     "name": "stderr",
     "output_type": "stream",
     "text": [
      "25/02/16 14:59:29 WARN TaskSetManager: Stage 1 contains a task of very large size (1607 KiB). The maximum recommended task size is 1000 KiB.\n",
      "                                                                                \r"
     ]
    },
    {
     "name": "stdout",
     "output_type": "stream",
     "text": [
      "+--------+----------------+-----+\n",
      "|match_id|          player|score|\n",
      "+--------+----------------+-----+\n",
      "|    M100|William Robinson|   13|\n",
      "|     M55|   Kelly Johnson|   44|\n",
      "|     M95|  Kevin Anderson|   69|\n",
      "|     M55|   Joseph Martin|   27|\n",
      "|    M100| Latasha Edwards|   91|\n",
      "|     M95|     Adam Holden|   36|\n",
      "|     M25|  Rebecca Romero|   86|\n",
      "|     M87|      Emily Ruiz|   33|\n",
      "|     M25|     Erik Martin|   28|\n",
      "|     M52|   Pamela Miller|   79|\n",
      "+--------+----------------+-----+\n",
      "\n"
     ]
    },
    {
     "name": "stderr",
     "output_type": "stream",
     "text": [
      "                                                                                \r"
     ]
    }
   ],
   "source": [
    "# Lưu bảng với bucketing\n",
    "(df.write\n",
    "  .mode('overwrite')\n",
    "  .format(\"iceberg\")\n",
    "  .bucketBy(16, \"match_id\")  # Bucket theo cột match_id với 16 buckets\n",
    "  .saveAsTable(\"bootcamp.df_bucketed\"))  # Lưu vào catalog 'bootcamp'\n",
    "\n",
    "# Kiểm tra dữ liệu\n",
    "spark.sql(\"SELECT * FROM bootcamp.df_bucketed LIMIT 10\").show()"
   ]
  },
  {
   "cell_type": "code",
   "execution_count": 6,
   "id": "86c62cf7-e4c2-42db-83a8-49db714af3e1",
   "metadata": {},
   "outputs": [
    {
     "data": {
      "text/html": [
       "<div>\n",
       "<style scoped>\n",
       "    .dataframe tbody tr th:only-of-type {\n",
       "        vertical-align: middle;\n",
       "    }\n",
       "\n",
       "    .dataframe tbody tr th {\n",
       "        vertical-align: top;\n",
       "    }\n",
       "\n",
       "    .dataframe thead th {\n",
       "        text-align: right;\n",
       "    }\n",
       "</style>\n",
       "<table border=\"1\" class=\"dataframe\">\n",
       "  <thead>\n",
       "    <tr style=\"text-align: right;\">\n",
       "      <th></th>\n",
       "      <th>match_id</th>\n",
       "      <th>player</th>\n",
       "      <th>score</th>\n",
       "    </tr>\n",
       "  </thead>\n",
       "  <tbody>\n",
       "    <tr>\n",
       "      <th>0</th>\n",
       "      <td>M100</td>\n",
       "      <td>William Robinson</td>\n",
       "      <td>13</td>\n",
       "    </tr>\n",
       "    <tr>\n",
       "      <th>1</th>\n",
       "      <td>M55</td>\n",
       "      <td>Kelly Johnson</td>\n",
       "      <td>44</td>\n",
       "    </tr>\n",
       "    <tr>\n",
       "      <th>2</th>\n",
       "      <td>M95</td>\n",
       "      <td>Kevin Anderson</td>\n",
       "      <td>69</td>\n",
       "    </tr>\n",
       "    <tr>\n",
       "      <th>3</th>\n",
       "      <td>M55</td>\n",
       "      <td>Joseph Martin</td>\n",
       "      <td>27</td>\n",
       "    </tr>\n",
       "    <tr>\n",
       "      <th>4</th>\n",
       "      <td>M100</td>\n",
       "      <td>Latasha Edwards</td>\n",
       "      <td>91</td>\n",
       "    </tr>\n",
       "  </tbody>\n",
       "</table>\n",
       "</div>"
      ],
      "text/plain": [
       "  match_id            player  score\n",
       "0     M100  William Robinson     13\n",
       "1      M55     Kelly Johnson     44\n",
       "2      M95    Kevin Anderson     69\n",
       "3      M55     Joseph Martin     27\n",
       "4     M100   Latasha Edwards     91"
      ]
     },
     "execution_count": 6,
     "metadata": {},
     "output_type": "execute_result"
    }
   ],
   "source": [
    "# Đọc lại bảng Iceberg\n",
    "df_bucketed = spark.read.format(\"iceberg\").load(\"bootcamp.df_bucketed\")\n",
    "df_bucketed.limit(5).toPandas()"
   ]
  },
  {
   "cell_type": "code",
   "execution_count": 15,
   "id": "aaf73a99-d9cd-4b7e-ba51-0b0b2c468173",
   "metadata": {},
   "outputs": [
    {
     "name": "stdout",
     "output_type": "stream",
     "text": [
      "+--------+------------------+-----+\n",
      "|match_id|            player|score|\n",
      "+--------+------------------+-----+\n",
      "|     M11|Mr. Anthony Hudson|  100|\n",
      "|     M83|        Lisa Riggs|   20|\n",
      "|     M11|    Jeremy Hensley|   38|\n",
      "|     M90|  Thomas Carpenter|   11|\n",
      "|     M62|     Micheal Smith|   46|\n",
      "|     M31|     Jasmine Allen|   48|\n",
      "|     M75|  Christina Duncan|   65|\n",
      "|     M90|       Jamie Tyler|   51|\n",
      "|     M11|     Mark Williams|   38|\n",
      "|     M11|Christopher Holmes|   29|\n",
      "|     M11|      Stacy Larson|   27|\n",
      "|     M75|Elizabeth Phillips|    6|\n",
      "|      M4|      George Scott|   15|\n",
      "|     M11|       Joseph Wood|   16|\n",
      "|      M4|       James Henry|   93|\n",
      "|     M75|   William Lindsey|   67|\n",
      "|     M90|      Amanda Huang|   40|\n",
      "|     M11|     Steven Flores|   21|\n",
      "|      M4|Elizabeth Williams|   17|\n",
      "|     M21|      Stacey Cross|   78|\n",
      "+--------+------------------+-----+\n",
      "only showing top 20 rows\n",
      "\n"
     ]
    }
   ],
   "source": [
    "bucket_path = \"s3a://warehouse/bootcamp/df_bucketed/data/match_id_bucket=0\"\n",
    "df_bucket_0 = spark.read.format(\"parquet\").load(bucket_path)\n",
    "df_bucket_0.show()"
   ]
  },
  {
   "cell_type": "code",
   "execution_count": 7,
   "id": "cc3176da-4e66-40bd-aa03-d521d0f5ad0f",
   "metadata": {},
   "outputs": [
    {
     "name": "stdout",
     "output_type": "stream",
     "text": [
      "    bucket_id\n",
      "0          12\n",
      "1          13\n",
      "2           6\n",
      "3           3\n",
      "4          15\n",
      "5           9\n",
      "6           4\n",
      "7           8\n",
      "8           7\n",
      "9          10\n",
      "10         14\n",
      "11          0\n",
      "12          1\n",
      "13          5\n",
      "14         11\n",
      "15          2\n"
     ]
    }
   ],
   "source": [
    "# Thêm cột bucket_id để kiểm tra bucket của mỗi dòng\n",
    "df_with_bucket = df_bucketed.withColumn(\"bucket_id\", (abs(hash(col(\"match_id\"))) % 16))\n",
    "\n",
    "# Kiểm tra các bucket_id duy nhất\n",
    "unique_buckets = df_with_bucket.select('bucket_id').dropDuplicates().toPandas()\n",
    "\n",
    "# Hiển thị kết quả\n",
    "print(unique_buckets)"
   ]
  },
  {
   "cell_type": "code",
   "execution_count": 14,
   "id": "8aaca9d7-a5f4-43de-a912-6abe0ca4c393",
   "metadata": {},
   "outputs": [
    {
     "data": {
      "text/html": [
       "<div>\n",
       "<style scoped>\n",
       "    .dataframe tbody tr th:only-of-type {\n",
       "        vertical-align: middle;\n",
       "    }\n",
       "\n",
       "    .dataframe tbody tr th {\n",
       "        vertical-align: top;\n",
       "    }\n",
       "\n",
       "    .dataframe thead th {\n",
       "        text-align: right;\n",
       "    }\n",
       "</style>\n",
       "<table border=\"1\" class=\"dataframe\">\n",
       "  <thead>\n",
       "    <tr style=\"text-align: right;\">\n",
       "      <th></th>\n",
       "      <th>match_id</th>\n",
       "      <th>player</th>\n",
       "      <th>score</th>\n",
       "    </tr>\n",
       "  </thead>\n",
       "  <tbody>\n",
       "    <tr>\n",
       "      <th>0</th>\n",
       "      <td>M100</td>\n",
       "      <td>William Robinson</td>\n",
       "      <td>13</td>\n",
       "    </tr>\n",
       "    <tr>\n",
       "      <th>1</th>\n",
       "      <td>M100</td>\n",
       "      <td>William Robinson</td>\n",
       "      <td>71</td>\n",
       "    </tr>\n",
       "    <tr>\n",
       "      <th>2</th>\n",
       "      <td>M19</td>\n",
       "      <td>William Robinson</td>\n",
       "      <td>69</td>\n",
       "    </tr>\n",
       "    <tr>\n",
       "      <th>3</th>\n",
       "      <td>M100</td>\n",
       "      <td>William Robinson</td>\n",
       "      <td>83</td>\n",
       "    </tr>\n",
       "    <tr>\n",
       "      <th>4</th>\n",
       "      <td>M36</td>\n",
       "      <td>William Robinson</td>\n",
       "      <td>42</td>\n",
       "    </tr>\n",
       "  </tbody>\n",
       "</table>\n",
       "</div>"
      ],
      "text/plain": [
       "  match_id            player  score\n",
       "0     M100  William Robinson     13\n",
       "1     M100  William Robinson     71\n",
       "2      M19  William Robinson     69\n",
       "3     M100  William Robinson     83\n",
       "4      M36  William Robinson     42"
      ]
     },
     "execution_count": 14,
     "metadata": {},
     "output_type": "execute_result"
    }
   ],
   "source": [
    "df_bucketed\\\n",
    ".filter(col('player')=='William Robinson')\\\n",
    ".limit(5).toPandas()"
   ]
  },
  {
   "cell_type": "code",
   "execution_count": null,
   "id": "c44427a6-bb64-4331-bb95-16318758b8dd",
   "metadata": {},
   "outputs": [],
   "source": []
  },
  {
   "cell_type": "code",
   "execution_count": 8,
   "id": "31f29c9c-af81-4936-b815-0d0390c08daf",
   "metadata": {},
   "outputs": [
    {
     "name": "stderr",
     "output_type": "stream",
     "text": [
      "25/02/16 14:59:41 WARN TaskSetManager: Stage 9 contains a task of very large size (1607 KiB). The maximum recommended task size is 1000 KiB.\n",
      "                                                                                \r"
     ]
    }
   ],
   "source": [
    "# Lưu bảng không bucket\n",
    "(df.write\n",
    "  .mode('overwrite')\n",
    "  .format(\"iceberg\")\n",
    "  .saveAsTable(\"bootcamp.df_non_bucketed\"))"
   ]
  },
  {
   "cell_type": "code",
   "execution_count": 9,
   "id": "9a159d4c-9f0f-4f24-a013-edf5c47f2a4d",
   "metadata": {},
   "outputs": [],
   "source": [
    "import time"
   ]
  },
  {
   "cell_type": "code",
   "execution_count": 10,
   "id": "e9dc14f9-b49b-409f-beec-99d969b60402",
   "metadata": {},
   "outputs": [
    {
     "name": "stdout",
     "output_type": "stream",
     "text": [
      "+--------+-----------------+\n",
      "|match_id|        avg_score|\n",
      "+--------+-----------------+\n",
      "|      M1|49.88741721854305|\n",
      "+--------+-----------------+\n",
      "\n",
      "Query on bucketed table took 1.15 seconds\n",
      "+--------+-----------------+\n",
      "|match_id|        avg_score|\n",
      "+--------+-----------------+\n",
      "|      M1|49.88741721854305|\n",
      "+--------+-----------------+\n",
      "\n",
      "Query on non-bucketed table took 1.11 seconds\n"
     ]
    }
   ],
   "source": [
    "# Truy vấn trên bảng đã bucket\n",
    "start_time = time.time()\n",
    "spark.sql(\"\"\"\n",
    "    SELECT match_id, AVG(score) AS avg_score\n",
    "    FROM bootcamp.df_bucketed\n",
    "    WHERE match_id = 'M1'\n",
    "    GROUP BY match_id\n",
    "\"\"\").show()\n",
    "print(f\"Query on bucketed table took {time.time() - start_time:.2f} seconds\")\n",
    "\n",
    "# Truy vấn trên bảng không bucket\n",
    "start_time = time.time()\n",
    "spark.sql(\"\"\"\n",
    "    SELECT match_id, AVG(score) AS avg_score\n",
    "    FROM bootcamp.df_non_bucketed\n",
    "    WHERE match_id = 'M1'\n",
    "    GROUP BY match_id\n",
    "\"\"\").show()\n",
    "print(f\"Query on non-bucketed table took {time.time() - start_time:.2f} seconds\")"
   ]
  },
  {
   "cell_type": "markdown",
   "id": "84712294-0843-4aba-b97b-ce6b3c15e1e9",
   "metadata": {},
   "source": [
    "# Homework"
   ]
  },
  {
   "cell_type": "code",
   "execution_count": 2,
   "id": "3024ab39-2617-486f-a3b4-87d571bd57ae",
   "metadata": {},
   "outputs": [
    {
     "name": "stderr",
     "output_type": "stream",
     "text": [
      "                                                                                \r"
     ]
    }
   ],
   "source": [
    "match_details_path = '/home/iceberg/data/match_details.csv'\n",
    "matches_path = '/home/iceberg/data/matches.csv'\n",
    "medals_matches_players_path = '/home/iceberg/data/medals_matches_players.csv'\n",
    "medals_path = '/home/iceberg/data/medals.csv'\n",
    "maps_path = '/home/iceberg/data/maps.csv'\n",
    "\n",
    "match_details_df = spark.read.format(\"csv\") \\\n",
    "    .option(\"header\", \"true\") \\\n",
    "    .option(\"delimiter\", \",\") \\\n",
    "    .load(match_details_path) \\\n",
    "    .select(\n",
    "        'match_id',\n",
    "        'player_gamertag',\n",
    "        col('player_total_kills').cast('integer').alias('player_total_kills'),\n",
    "        col('player_total_deaths').cast('integer').alias('player_total_deaths')\n",
    "    )\n",
    "matches_df = spark.read.format(\"csv\")\\\n",
    "    .option(\"header\", \"true\")\\\n",
    "    .option(\"delimiter\", \",\")\\\n",
    "    .load(matches_path)\\\n",
    "    .withColumn(\"is_team_game\", when(col(\"is_team_game\") == \"true\", True).otherwise(False)) \\\n",
    "    .withColumn(\"completion_date\", to_timestamp(col(\"completion_date\")))\\\n",
    "    .select(\n",
    "        'match_id',\n",
    "        col('mapid').alias('map_id'),\n",
    "        'is_team_game',\n",
    "        'playlist_id',\n",
    "        'completion_date'\n",
    "    )\n",
    "medals_matches_players_df = spark.read.format(\"csv\")\\\n",
    "    .option(\"header\", \"true\")\\\n",
    "    .option(\"delimiter\", \",\")\\\n",
    "    .load(medals_matches_players_path)\\\n",
    "    .select('match_id',\n",
    "            'player_gamertag',\n",
    "            'medal_id',\n",
    "            (col('count').cast('integer')).alias('medal_count')\n",
    "    )\n",
    "medals_df = spark.read.format(\"csv\")\\\n",
    "    .option(\"header\", \"true\")\\\n",
    "    .option(\"delimiter\", \",\")\\\n",
    "    .load(medals_path)\\\n",
    "    .select('medal_id',\n",
    "            col('name').alias('medal_name')\n",
    "    )\n",
    "maps_df = spark.read.format(\"csv\")\\\n",
    "    .option(\"header\", \"true\")\\\n",
    "    .option(\"delimiter\", \",\")\\\n",
    "    .load(maps_path)\\\n",
    "    .select(col('mapid').alias('map_id'),\n",
    "            col('name').alias('map_name')\n",
    "    )"
   ]
  },
  {
   "cell_type": "markdown",
   "id": "7e8043e9-e805-4485-8b35-8d2245acd9f2",
   "metadata": {},
   "source": [
    "## Task 1"
   ]
  },
  {
   "cell_type": "code",
   "execution_count": 3,
   "id": "e4f0ceb6-cb8d-4686-83b1-3c595acc47e8",
   "metadata": {},
   "outputs": [],
   "source": [
    "# Broadcast join 'maps'\n",
    "matches_mapped_df = matches_df.join(\n",
    "    broadcast(maps_df),\n",
    "    \"map_id\",\n",
    "    \"inner\"\n",
    ")\n",
    "\n",
    "# Broadcast join 'medals'\n",
    "medals_matches_players_mapped_df = medals_matches_players_df.join(\n",
    "    broadcast(medals_df),\n",
    "    \"medal_id\",\n",
    "    \"inner\"\n",
    ")"
   ]
  },
  {
   "cell_type": "code",
   "execution_count": 4,
   "id": "f3bf700f-42bd-407d-9a83-e294d6b4072a",
   "metadata": {},
   "outputs": [
    {
     "name": "stderr",
     "output_type": "stream",
     "text": [
      "                                                                                \r"
     ]
    }
   ],
   "source": [
    "# Lưu match_details với bucketing\n",
    "match_details_df.write \\\n",
    "    .format(\"iceberg\") \\\n",
    "    .mode(\"overwrite\") \\\n",
    "    .bucketBy(16, \"match_id\") \\\n",
    "    .saveAsTable(\"bootcamp.match_details_bucketed\")\n",
    "\n",
    "# Lưu matches với bucketing\n",
    "matches_mapped_df.write \\\n",
    "    .format(\"iceberg\") \\\n",
    "    .mode(\"overwrite\") \\\n",
    "    .bucketBy(16, \"match_id\") \\\n",
    "    .saveAsTable(\"bootcamp.matches_bucketed\")\n",
    "\n",
    "# Lưu medals_matches_players với bucketing\n",
    "medals_matches_players_mapped_df.write \\\n",
    "    .format(\"iceberg\") \\\n",
    "    .mode(\"overwrite\") \\\n",
    "    .bucketBy(16, \"match_id\") \\\n",
    "    .saveAsTable(\"bootcamp.medals_matches_players_bucketed\")"
   ]
  },
  {
   "cell_type": "code",
   "execution_count": 5,
   "id": "16298d23-c5cf-47df-b5f6-764a6a93d5ec",
   "metadata": {},
   "outputs": [
    {
     "name": "stderr",
     "output_type": "stream",
     "text": [
      "                                                                                \r"
     ]
    },
    {
     "data": {
      "text/html": [
       "<div>\n",
       "<style scoped>\n",
       "    .dataframe tbody tr th:only-of-type {\n",
       "        vertical-align: middle;\n",
       "    }\n",
       "\n",
       "    .dataframe tbody tr th {\n",
       "        vertical-align: top;\n",
       "    }\n",
       "\n",
       "    .dataframe thead th {\n",
       "        text-align: right;\n",
       "    }\n",
       "</style>\n",
       "<table border=\"1\" class=\"dataframe\">\n",
       "  <thead>\n",
       "    <tr style=\"text-align: right;\">\n",
       "      <th></th>\n",
       "      <th>match_id</th>\n",
       "      <th>player_gamertag</th>\n",
       "      <th>player_total_kills</th>\n",
       "      <th>player_total_deaths</th>\n",
       "      <th>map_id</th>\n",
       "      <th>is_team_game</th>\n",
       "      <th>playlist_id</th>\n",
       "      <th>completion_date</th>\n",
       "      <th>map_name</th>\n",
       "      <th>medal_id</th>\n",
       "      <th>medal_count</th>\n",
       "      <th>medal_name</th>\n",
       "    </tr>\n",
       "  </thead>\n",
       "  <tbody>\n",
       "    <tr>\n",
       "      <th>0</th>\n",
       "      <td>0001a1c4-83dc-4f40-a97e-7910a765c96a</td>\n",
       "      <td>ILLICIT 117</td>\n",
       "      <td>23</td>\n",
       "      <td>28</td>\n",
       "      <td>c7805740-f206-11e4-982c-24be05e24f7e</td>\n",
       "      <td>True</td>\n",
       "      <td>780cc101-005c-4fca-8ce7-6f36d7156ffe</td>\n",
       "      <td>2016-01-06</td>\n",
       "      <td>Glacier</td>\n",
       "      <td>3565443938</td>\n",
       "      <td>4</td>\n",
       "      <td>Stronghold Captured</td>\n",
       "    </tr>\n",
       "    <tr>\n",
       "      <th>1</th>\n",
       "      <td>0001a1c4-83dc-4f40-a97e-7910a765c96a</td>\n",
       "      <td>ILLICIT 117</td>\n",
       "      <td>23</td>\n",
       "      <td>28</td>\n",
       "      <td>c7805740-f206-11e4-982c-24be05e24f7e</td>\n",
       "      <td>True</td>\n",
       "      <td>780cc101-005c-4fca-8ce7-6f36d7156ffe</td>\n",
       "      <td>2016-01-06</td>\n",
       "      <td>Glacier</td>\n",
       "      <td>3261908037</td>\n",
       "      <td>8</td>\n",
       "      <td>Headshot</td>\n",
       "    </tr>\n",
       "    <tr>\n",
       "      <th>2</th>\n",
       "      <td>0001a1c4-83dc-4f40-a97e-7910a765c96a</td>\n",
       "      <td>ILLICIT 117</td>\n",
       "      <td>23</td>\n",
       "      <td>28</td>\n",
       "      <td>c7805740-f206-11e4-982c-24be05e24f7e</td>\n",
       "      <td>True</td>\n",
       "      <td>780cc101-005c-4fca-8ce7-6f36d7156ffe</td>\n",
       "      <td>2016-01-06</td>\n",
       "      <td>Glacier</td>\n",
       "      <td>824733727</td>\n",
       "      <td>1</td>\n",
       "      <td>Distraction</td>\n",
       "    </tr>\n",
       "    <tr>\n",
       "      <th>3</th>\n",
       "      <td>0001a1c4-83dc-4f40-a97e-7910a765c96a</td>\n",
       "      <td>ILLICIT 117</td>\n",
       "      <td>23</td>\n",
       "      <td>28</td>\n",
       "      <td>c7805740-f206-11e4-982c-24be05e24f7e</td>\n",
       "      <td>True</td>\n",
       "      <td>780cc101-005c-4fca-8ce7-6f36d7156ffe</td>\n",
       "      <td>2016-01-06</td>\n",
       "      <td>Glacier</td>\n",
       "      <td>298813630</td>\n",
       "      <td>2</td>\n",
       "      <td>Spartan Charge</td>\n",
       "    </tr>\n",
       "    <tr>\n",
       "      <th>4</th>\n",
       "      <td>0001a1c4-83dc-4f40-a97e-7910a765c96a</td>\n",
       "      <td>ILLICIT 117</td>\n",
       "      <td>23</td>\n",
       "      <td>28</td>\n",
       "      <td>c7805740-f206-11e4-982c-24be05e24f7e</td>\n",
       "      <td>True</td>\n",
       "      <td>780cc101-005c-4fca-8ce7-6f36d7156ffe</td>\n",
       "      <td>2016-01-06</td>\n",
       "      <td>Glacier</td>\n",
       "      <td>1351381581</td>\n",
       "      <td>3</td>\n",
       "      <td>Stronghold Defense</td>\n",
       "    </tr>\n",
       "  </tbody>\n",
       "</table>\n",
       "</div>"
      ],
      "text/plain": [
       "                               match_id player_gamertag  player_total_kills  \\\n",
       "0  0001a1c4-83dc-4f40-a97e-7910a765c96a     ILLICIT 117                  23   \n",
       "1  0001a1c4-83dc-4f40-a97e-7910a765c96a     ILLICIT 117                  23   \n",
       "2  0001a1c4-83dc-4f40-a97e-7910a765c96a     ILLICIT 117                  23   \n",
       "3  0001a1c4-83dc-4f40-a97e-7910a765c96a     ILLICIT 117                  23   \n",
       "4  0001a1c4-83dc-4f40-a97e-7910a765c96a     ILLICIT 117                  23   \n",
       "\n",
       "   player_total_deaths                                map_id  is_team_game  \\\n",
       "0                   28  c7805740-f206-11e4-982c-24be05e24f7e          True   \n",
       "1                   28  c7805740-f206-11e4-982c-24be05e24f7e          True   \n",
       "2                   28  c7805740-f206-11e4-982c-24be05e24f7e          True   \n",
       "3                   28  c7805740-f206-11e4-982c-24be05e24f7e          True   \n",
       "4                   28  c7805740-f206-11e4-982c-24be05e24f7e          True   \n",
       "\n",
       "                            playlist_id completion_date map_name    medal_id  \\\n",
       "0  780cc101-005c-4fca-8ce7-6f36d7156ffe      2016-01-06  Glacier  3565443938   \n",
       "1  780cc101-005c-4fca-8ce7-6f36d7156ffe      2016-01-06  Glacier  3261908037   \n",
       "2  780cc101-005c-4fca-8ce7-6f36d7156ffe      2016-01-06  Glacier   824733727   \n",
       "3  780cc101-005c-4fca-8ce7-6f36d7156ffe      2016-01-06  Glacier   298813630   \n",
       "4  780cc101-005c-4fca-8ce7-6f36d7156ffe      2016-01-06  Glacier  1351381581   \n",
       "\n",
       "   medal_count           medal_name  \n",
       "0            4  Stronghold Captured  \n",
       "1            8             Headshot  \n",
       "2            1          Distraction  \n",
       "3            2       Spartan Charge  \n",
       "4            3   Stronghold Defense  "
      ]
     },
     "execution_count": 5,
     "metadata": {},
     "output_type": "execute_result"
    }
   ],
   "source": [
    "# Đọc các bảng đã bucketed\n",
    "match_details_bucketed = spark.read.format(\"iceberg\").load(\"bootcamp.match_details_bucketed\")\n",
    "matches_bucketed = spark.read.format(\"iceberg\").load(\"bootcamp.matches_bucketed\")\n",
    "medals_matches_players_bucketed = spark.read.format(\"iceberg\").load(\"bootcamp.medals_matches_players_bucketed\")\n",
    "\n",
    "# Thực hiện join giữa các bảng\n",
    "# Step 1: Join match_details và matches trên match_id\n",
    "step1 = match_details_bucketed.join(\n",
    "    matches_bucketed,\n",
    "    'match_id',\n",
    "    \"inner\"\n",
    ")\n",
    "\n",
    "# Step 2: Join kết quả với medals_matches_players trên match_id\n",
    "final_result = step1.join(\n",
    "    medals_matches_players_bucketed,\n",
    "    ['match_id', 'player_gamertag'],\n",
    "    \"inner\"\n",
    ")\n",
    "\n",
    "# Hiển thị kết quả\n",
    "final_result.limit(5).toPandas()"
   ]
  },
  {
   "cell_type": "code",
   "execution_count": 6,
   "id": "d6f40296-e121-4765-ae69-04dfa8a2890f",
   "metadata": {},
   "outputs": [
    {
     "name": "stdout",
     "output_type": "stream",
     "text": [
      "Top players by average kills per game:\n"
     ]
    },
    {
     "name": "stderr",
     "output_type": "stream",
     "text": [
      "                                                                                \r"
     ]
    },
    {
     "name": "stdout",
     "output_type": "stream",
     "text": [
      "+---------------+------------------+\n",
      "|player_gamertag|avg_kills_per_game|\n",
      "+---------------+------------------+\n",
      "|  I Johann117 I|            1440.0|\n",
      "|   gimpinator14|            1308.0|\n",
      "|BudgetLegendary|            1162.0|\n",
      "|      GsFurreal|            1125.0|\n",
      "|    ManicZ0mb1e|            1098.0|\n",
      "+---------------+------------------+\n",
      "only showing top 5 rows\n",
      "\n",
      "Most played playlists:\n"
     ]
    },
    {
     "name": "stderr",
     "output_type": "stream",
     "text": [
      "                                                                                \r"
     ]
    },
    {
     "name": "stdout",
     "output_type": "stream",
     "text": [
      "+--------------------+-----------+\n",
      "|         playlist_id|match_count|\n",
      "+--------------------+-----------+\n",
      "|f72e0ef0-7c4a-430...|     202489|\n",
      "|c98949ae-60a8-43d...|     107422|\n",
      "|2323b76a-db98-4e0...|      92148|\n",
      "|892189e9-d712-4bd...|      86496|\n",
      "|0bcf2be1-3168-4e4...|      66477|\n",
      "+--------------------+-----------+\n",
      "only showing top 5 rows\n",
      "\n",
      "Most played maps:\n"
     ]
    },
    {
     "name": "stderr",
     "output_type": "stream",
     "text": [
      "                                                                                \r"
     ]
    },
    {
     "name": "stdout",
     "output_type": "stream",
     "text": [
      "+--------------+-----------+\n",
      "|      map_name|match_count|\n",
      "+--------------+-----------+\n",
      "|Breakout Arena|     186118|\n",
      "|        Alpine|     105658|\n",
      "|       Glacier|      70182|\n",
      "|        Empire|      51845|\n",
      "|       The Rig|      41098|\n",
      "+--------------+-----------+\n",
      "only showing top 5 rows\n",
      "\n",
      "Maps with the most Killing Spree medals:\n",
      "+--------------+--------------------------+\n",
      "|      map_name|total_killing_spree_medals|\n",
      "+--------------+--------------------------+\n",
      "|Breakout Arena|                      6738|\n",
      "|        Alpine|                      5359|\n",
      "|       Glacier|                      3402|\n",
      "|        Empire|                      2233|\n",
      "|         Truth|                      2061|\n",
      "+--------------+--------------------------+\n",
      "only showing top 5 rows\n",
      "\n"
     ]
    }
   ],
   "source": [
    "# ===========================\n",
    "# PHÂN TÍCH DỮ LIỆU\n",
    "# ===========================\n",
    "\n",
    "# 1. Người chơi nào có trung bình số lần giết cao nhất mỗi trận?\n",
    "player_avg_kills = final_result.groupBy(\"player_gamertag\") \\\n",
    "    .agg(\n",
    "        (sum(\"player_total_kills\") / countDistinct(\"match_id\")).alias(\"avg_kills_per_game\")\n",
    "    ) \\\n",
    "    .orderBy(col(\"avg_kills_per_game\").desc())\n",
    "\n",
    "print(\"Top players by average kills per game:\")\n",
    "player_avg_kills.show(5)\n",
    "\n",
    "# 2. Playlist nào được chơi nhiều nhất?\n",
    "most_played_playlist = final_result.groupBy(\"playlist_id\") \\\n",
    "    .agg(count(\"match_id\").alias(\"match_count\")) \\\n",
    "    .orderBy(col(\"match_count\").desc())\n",
    "\n",
    "print(\"Most played playlists:\")\n",
    "most_played_playlist.show(5)\n",
    "\n",
    "# 3. Bản đồ nào được chơi nhiều nhất?\n",
    "most_played_map = final_result.groupBy(\"map_name\") \\\n",
    "    .agg(count(\"match_id\").alias(\"match_count\")) \\\n",
    "    .orderBy(col(\"match_count\").desc())\n",
    "\n",
    "print(\"Most played maps:\")\n",
    "most_played_map.show(5)\n",
    "\n",
    "# 4. Bản đồ nào có nhiều huy chương \"Killing Spree\" nhất?\n",
    "killing_spree_medals = final_result.filter(col(\"medal_name\") == \"Killing Spree\")\n",
    "\n",
    "most_killing_spree_map = killing_spree_medals.groupBy(\"map_name\") \\\n",
    "    .agg(sum(\"medal_count\").alias(\"total_killing_spree_medals\")) \\\n",
    "    .orderBy(col(\"total_killing_spree_medals\").desc())\n",
    "\n",
    "print(\"Maps with the most Killing Spree medals:\")\n",
    "most_killing_spree_map.show(5)"
   ]
  }
 ],
 "metadata": {
  "kernelspec": {
   "display_name": "Python 3 (ipykernel)",
   "language": "python",
   "name": "python3"
  },
  "language_info": {
   "codemirror_mode": {
    "name": "ipython",
    "version": 3
   },
   "file_extension": ".py",
   "mimetype": "text/x-python",
   "name": "python",
   "nbconvert_exporter": "python",
   "pygments_lexer": "ipython3",
   "version": "3.9.18"
  }
 },
 "nbformat": 4,
 "nbformat_minor": 5
}
